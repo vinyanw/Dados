{
  "cells": [
    {
      "cell_type": "markdown",
      "metadata": {
        "id": "X4LUnafLjg77"
      },
      "source": [
        "## **Importando biblioteca**\n",
        "\n",
        "> Adicionar aspas\n",
        "\n"
      ]
    },
    {
      "cell_type": "code",
      "execution_count": 20,
      "metadata": {
        "id": "HHOdOnTQYpm9"
      },
      "outputs": [],
      "source": [
        "import pandas as pd\n",
        "import numpy as np\n",
        "import seaborn as sns\n",
        "import matplotlib.pyplot as plt"
      ]
    },
    {
      "cell_type": "markdown",
      "metadata": {
        "id": "pWjyC4G0jv1R"
      },
      "source": [
        "# **Aplicando os dados**"
      ]
    },
    {
      "cell_type": "code",
      "execution_count": 21,
      "metadata": {
        "id": "qv2kmkk0hwZb"
      },
      "outputs": [],
      "source": [
        "dados = 'https://raw.githubusercontent.com/vinyanw/Dados/main/TrilhaDados_Desafio05.csv'\n",
        "df = pd.read_csv(dados)"
      ]
    },
    {
      "cell_type": "markdown",
      "source": [
        "# **1. Substituir o cabeçalho por palavras em letras maiúsculas;**"
      ],
      "metadata": {
        "id": "6MqtVbWxOzXA"
      }
    },
    {
      "cell_type": "code",
      "execution_count": 22,
      "metadata": {
        "id": "LECK7Cf8me59",
        "colab": {
          "base_uri": "https://localhost:8080/"
        },
        "collapsed": true,
        "outputId": "bba07645-d2ce-4a76-a455-599757f4bcae"
      },
      "outputs": [
        {
          "output_type": "stream",
          "name": "stdout",
          "text": [
            "   ID  PONTOS ESTADO    GENERO  IDADE  BENS  SALDO NA CONTA  PRODUTO  \\\n",
            "0   1     619     BA  Feminino     42     2               0        1   \n",
            "1   2     608     CE  Feminino     41     1         8380786        1   \n",
            "2   3     502     BA  Feminino     42     8         1596608        3   \n",
            "3   4     699     BA  Feminino     39     1               0        2   \n",
            "4   5     850     CE  Feminino     43     2        12551082        1   \n",
            "\n",
            "   POSSUI CARTAO  ATIVO     SALARIO  SAIU  \n",
            "0              1      1  10134888.0     1  \n",
            "1              0      1  11254258.0     0  \n",
            "2              1      0  11393157.0     1  \n",
            "3              0      0   9382663.0     0  \n",
            "4              1      1    790841.0     0  \n"
          ]
        }
      ],
      "source": [
        "df.columns = [col.upper() for col in df.columns]\n",
        "\n",
        "printf = df.head()\n",
        "print(printf)"
      ]
    },
    {
      "cell_type": "markdown",
      "metadata": {
        "id": "JIagfRR8JDHL"
      },
      "source": [
        "# **2. Corrigir os dados faltantes e preencher as lacunas com valores adequados (NaN);**"
      ]
    },
    {
      "cell_type": "code",
      "execution_count": 23,
      "metadata": {
        "id": "dKGrwy72mfFl",
        "colab": {
          "base_uri": "https://localhost:8080/"
        },
        "collapsed": true,
        "outputId": "ea420740-c08c-4825-a44f-407ef87862c2"
      },
      "outputs": [
        {
          "output_type": "stream",
          "name": "stdout",
          "text": [
            "ID                0\n",
            "PONTOS            0\n",
            "ESTADO            0\n",
            "GENERO            8\n",
            "IDADE             0\n",
            "BENS              0\n",
            "SALDO NA CONTA    0\n",
            "PRODUTO           0\n",
            "POSSUI CARTAO     0\n",
            "ATIVO             0\n",
            "SALARIO           7\n",
            "SAIU              0\n",
            "dtype: int64\n"
          ]
        }
      ],
      "source": [
        "print(df.isnull().sum())\n"
      ]
    },
    {
      "cell_type": "code",
      "execution_count": 24,
      "metadata": {
        "id": "r0K_IJPLmfNv"
      },
      "outputs": [],
      "source": [
        "df['GENERO'].fillna(df['GENERO'].mode()[0], inplace=True)\n",
        "\n",
        "df['SALARIO'].fillna(df['SALARIO'].median(), inplace=True)"
      ]
    },
    {
      "cell_type": "code",
      "source": [
        "df = df[df['SALDO NA CONTA'] != 0]"
      ],
      "metadata": {
        "id": "39doLGFUXh2O"
      },
      "execution_count": 25,
      "outputs": []
    },
    {
      "cell_type": "code",
      "source": [
        "print(df.isnull().sum())\n",
        "print(df.head(20))"
      ],
      "metadata": {
        "id": "0H4blPgOFpMk",
        "outputId": "3cd28151-3d43-442b-b1fe-9037bfd42e98",
        "colab": {
          "base_uri": "https://localhost:8080/"
        },
        "collapsed": true
      },
      "execution_count": 26,
      "outputs": [
        {
          "output_type": "stream",
          "name": "stdout",
          "text": [
            "ID                0\n",
            "PONTOS            0\n",
            "ESTADO            0\n",
            "GENERO            0\n",
            "IDADE             0\n",
            "BENS              0\n",
            "SALDO NA CONTA    0\n",
            "PRODUTO           0\n",
            "POSSUI CARTAO     0\n",
            "ATIVO             0\n",
            "SALARIO           0\n",
            "SAIU              0\n",
            "dtype: int64\n",
            "    ID  PONTOS ESTADO     GENERO  IDADE  BENS  SALDO NA CONTA  PRODUTO  \\\n",
            "1    2     608     CE   Feminino     41     1         8380786        1   \n",
            "2    3     502     BA   Feminino     42     8         1596608        3   \n",
            "4    5     850     CE   Feminino     43     2        12551082        1   \n",
            "5    6     645     CE  Masculino     44     8        11375578        2   \n",
            "7    8     376     CE   Feminino     29     4        11504674        4   \n",
            "8    9     501     BA  Masculino     44     4        14205107        2   \n",
            "9   10     684     BA  Masculino     27     2        13460388        1   \n",
            "10  11     528     BA  Masculino     31     6        10201672        2   \n",
            "15  16     616     CE          M     45     3        14312941        2   \n",
            "16  17     653     CE  Masculino     58     1        13260288        1   \n",
            "26  27     756     CE  Masculino     36     2        13681564        1   \n",
            "28  29     574     SP   Feminino     43     3        14134943        1   \n",
            "29  30     411     MA  Masculino     29     0         5969717        2   \n",
            "31  32     533     MA  Masculino     36     7          853117        1   \n",
            "32  33     553     MG  Masculino     41     9        11011254        2   \n",
            "35  36     475     MA   Feminino     45     0        13426404        1   \n",
            "36  37     490     CE  Masculino     31     3        14526023        1   \n",
            "37  38     804     CE  Masculino     33     7          765486        1   \n",
            "39  40     582     CE  Masculino     41     6         7034948        2   \n",
            "41  42     465     MA   Feminino     51     8        12252232        1   \n",
            "\n",
            "    POSSUI CARTAO  ATIVO       SALARIO  SAIU  \n",
            "1               0      1  1.125426e+07     0  \n",
            "2               1      0  1.139316e+07     1  \n",
            "4               1      1  7.908410e+05     0  \n",
            "5               1      0  1.497567e+07     1  \n",
            "7               1      0  1.193469e+10     1  \n",
            "8               0      1  7.494050e+05     0  \n",
            "9               1      1  7.172573e+06     0  \n",
            "10              0      0  8.018112e+06     0  \n",
            "15              0      1  6.432726e+06     0  \n",
            "16              1      0  5.097670e+05     1  \n",
            "26              1      1  1.700420e+07     0  \n",
            "28              1      1  1.001874e+07     0  \n",
            "29              1      1  5.348321e+06     0  \n",
            "31              0      1  1.567319e+07     0  \n",
            "32              0      0  8.189881e+06     0  \n",
            "35              1      0  2.782299e+06     1  \n",
            "36              0      1  1.140668e+07     0  \n",
            "37              0      1  9.845345e+06     0  \n",
            "39              0      1  1.780740e+07     0  \n",
            "41              0      0  1.812976e+07     1  \n"
          ]
        }
      ]
    },
    {
      "cell_type": "markdown",
      "source": [
        "**Verificação da coluna faltante (salário), utilizando a mediana da coluna para preencher-la \"índice 17\"**"
      ],
      "metadata": {
        "id": "UOZhVT1NPcje"
      }
    },
    {
      "cell_type": "code",
      "source": [
        "print(df.head(20))"
      ],
      "metadata": {
        "colab": {
          "base_uri": "https://localhost:8080/"
        },
        "id": "8dxoYbC5Patb",
        "outputId": "7ecf1e43-9b4e-49f4-8037-cda4761f62e7"
      },
      "execution_count": null,
      "outputs": [
        {
          "output_type": "stream",
          "name": "stdout",
          "text": [
            "    ID  PONTOS ESTADO     GENERO  IDADE  BENS  SALDO NA CONTA  PRODUTO  \\\n",
            "0    1     619     BA   Feminino     42     2               0        1   \n",
            "1    2     608     CE   Feminino     41     1         8380786        1   \n",
            "2    3     502     BA   Feminino     42     8         1596608        3   \n",
            "3    4     699     BA   Feminino     39     1               0        2   \n",
            "4    5     850     CE   Feminino     43     2        12551082        1   \n",
            "5    6     645     CE  Masculino     44     8        11375578        2   \n",
            "6    7     822     BA          M     50     7               0        2   \n",
            "7    8     376     CE   Feminino     29     4        11504674        4   \n",
            "8    9     501     BA  Masculino     44     4        14205107        2   \n",
            "9   10     684     BA  Masculino     27     2        13460388        1   \n",
            "10  11     528     BA  Masculino     31     6        10201672        2   \n",
            "11  12     497     CE  Masculino     24     3               0        2   \n",
            "12  13     476     BA   Feminino     34    10               0        2   \n",
            "13  14     549     BA   Feminino     25     5               0        2   \n",
            "14  15     635     CE   Feminino     35     7               0        2   \n",
            "15  16     616     CE          M     45     3        14312941        2   \n",
            "16  17     653     CE  Masculino     58     1        13260288        1   \n",
            "17  18     549     CE   Feminino     24     9               0        2   \n",
            "18  19     587     CE  Masculino     45     6               0        1   \n",
            "19  20     726     BA   Feminino     24     6               0        2   \n",
            "\n",
            "    POSSUI CARTAO  ATIVO       SALARIO  SAIU  \n",
            "0               1      1  1.013489e+07     1  \n",
            "1               0      1  1.125426e+07     0  \n",
            "2               1      0  1.139316e+07     1  \n",
            "3               0      0  9.382663e+06     0  \n",
            "4               1      1  7.908410e+05     0  \n",
            "5               1      0  1.497567e+07     1  \n",
            "6               1      1  1.006280e+05     0  \n",
            "7               1      0  1.193469e+10     1  \n",
            "8               0      1  7.494050e+05     0  \n",
            "9               1      1  7.172573e+06     0  \n",
            "10              0      0  8.018112e+06     0  \n",
            "11              1      0  7.639001e+06     0  \n",
            "12              1      0  2.626098e+06     0  \n",
            "13              0      0  1.908578e+07     0  \n",
            "14              1      1  6.595165e+06     0  \n",
            "15              0      1  6.432726e+06     0  \n",
            "16              1      0  5.097670e+05     1  \n",
            "17              1      1  8.703250e+06     0  \n",
            "18              0      0  1.586848e+07     0  \n",
            "19              1      1  5.472403e+06     0  \n"
          ]
        }
      ]
    },
    {
      "cell_type": "markdown",
      "source": [
        "***Verificação da coluna faltante (gênero), utilizando a moda da coluna para preencher-la \"índice 64\"***"
      ],
      "metadata": {
        "id": "oau1tSn6Popl"
      }
    },
    {
      "cell_type": "code",
      "source": [
        "print(df.head(69))"
      ],
      "metadata": {
        "colab": {
          "base_uri": "https://localhost:8080/"
        },
        "id": "xoWTHaTMPabT",
        "outputId": "fb41f867-a2ec-4ce3-aafc-8856881982e8"
      },
      "execution_count": null,
      "outputs": [
        {
          "output_type": "stream",
          "name": "stdout",
          "text": [
            "    ID  PONTOS ESTADO     GENERO  IDADE  BENS  SALDO NA CONTA  PRODUTO  \\\n",
            "0    1     619     BA   Feminino     42     2               0        1   \n",
            "1    2     608     CE   Feminino     41     1         8380786        1   \n",
            "2    3     502     BA   Feminino     42     8         1596608        3   \n",
            "3    4     699     BA   Feminino     39     1               0        2   \n",
            "4    5     850     CE   Feminino     43     2        12551082        1   \n",
            "..  ..     ...    ...        ...    ...   ...             ...      ...   \n",
            "64  65     603     MG  Masculino     26     4        10916637        1   \n",
            "65  66     751     MG   Feminino     36     6        16983146        2   \n",
            "66  67     581     MG   Feminino     34     1        10163304        1   \n",
            "67  68     735     CE  Masculino     43    10        12318001        2   \n",
            "68  69     661     CE   Feminino     35     5        15072553        2   \n",
            "\n",
            "    POSSUI CARTAO  ATIVO     SALARIO  SAIU  \n",
            "0               1      1  10134888.0     1  \n",
            "1               0      1  11254258.0     0  \n",
            "2               1      0  11393157.0     1  \n",
            "3               0      0   9382663.0     0  \n",
            "4               1      1    790841.0     0  \n",
            "..            ...    ...         ...   ...  \n",
            "64              1      1   9284067.0     0  \n",
            "65              1      1   2775836.0     0  \n",
            "66              1      0  11043151.0     0  \n",
            "67              1      1  19667328.0     0  \n",
            "68              0      1  11365685.0     0  \n",
            "\n",
            "[69 rows x 12 columns]\n"
          ]
        }
      ]
    },
    {
      "cell_type": "markdown",
      "source": [
        "# **3. Eliminar os outliers, atribuindo no lugar deles os valores adequados;**"
      ],
      "metadata": {
        "id": "diyOWoDYdtcq"
      }
    },
    {
      "cell_type": "code",
      "source": [
        "salarioQ1 = df['SALARIO'].quantile(0.25)\n",
        "salarioQ3 = df['SALARIO'].quantile(0.75)\n",
        "salario_IntervaloInterquartil = salarioQ3 - salarioQ1\n",
        "salario_LimiteInferior = salarioQ1 - 1.5 * salario_IntervaloInterquartil\n",
        "salario_LimiteSuperior = salarioQ3 + 1.5 * salario_IntervaloInterquartil"
      ],
      "metadata": {
        "id": "4WgduZBkeEWq"
      },
      "execution_count": null,
      "outputs": []
    },
    {
      "cell_type": "code",
      "source": [
        "df['SALARIO'] = df['SALARIO'].apply(lambda x: salario_LimiteInferior if x < salario_LimiteSuperior else (salario_LimiteSuperior if x > salario_LimiteInferior else x))"
      ],
      "metadata": {
        "id": "XbO2AFWMeHga"
      },
      "execution_count": null,
      "outputs": []
    },
    {
      "cell_type": "markdown",
      "source": [
        "***Verificação dos outliers***"
      ],
      "metadata": {
        "id": "BNy4X_oQeXLO"
      }
    },
    {
      "cell_type": "code",
      "source": [
        "print(df[(df['SALARIO'] < salario_LimiteInferior) | (df['SALARIO'] > salario_LimiteSuperior)])\n",
        "\n",
        "print(df.head())"
      ],
      "metadata": {
        "colab": {
          "base_uri": "https://localhost:8080/"
        },
        "id": "aG5deAB3eQJb",
        "outputId": "ab5c56ab-50dd-4e7a-b3e2-3ba7028f3ae5"
      },
      "execution_count": null,
      "outputs": [
        {
          "output_type": "stream",
          "name": "stdout",
          "text": [
            "Empty DataFrame\n",
            "Columns: [ID, PONTOS, ESTADO, GENERO, IDADE, BENS, SALDO NA CONTA, PRODUTO, POSSUI CARTAO, ATIVO, SALARIO, SAIU]\n",
            "Index: []\n",
            "Empty DataFrame\n",
            "Columns: [ID, PONTOS, ESTADO, GENERO, IDADE, BENS, SALDO NA CONTA, PRODUTO, POSSUI CARTAO, ATIVO, SALARIO, SAIU]\n",
            "Index: []\n",
            "   ID  PONTOS ESTADO    GENERO  IDADE  BENS  SALDO NA CONTA  PRODUTO  \\\n",
            "0   1     619     BA  Feminino     42     2     -18880266.0        1   \n",
            "1   2     608     CE  Feminino     41     1     -18880266.0        1   \n",
            "2   3     502     BA  Feminino     42     8     -18880266.0        3   \n",
            "3   4     699     BA  Feminino     39     1     -18880266.0        2   \n",
            "4   5     850     CE  Feminino     43     2     -18880266.0        1   \n",
            "\n",
            "   POSSUI CARTAO  ATIVO     SALARIO  SAIU  \n",
            "0              1      1 -13348127.5     1  \n",
            "1              0      1 -13348127.5     0  \n",
            "2              1      0 -13348127.5     1  \n",
            "3              0      0 -13348127.5     0  \n",
            "4              1      1 -13348127.5     0  \n"
          ]
        }
      ]
    },
    {
      "cell_type": "code",
      "source": [],
      "metadata": {
        "id": "Vo3j_-i_eP-P"
      },
      "execution_count": null,
      "outputs": []
    },
    {
      "cell_type": "markdown",
      "source": [
        "\n",
        "\n",
        "# **4. Eliminar os duplicados, para garantir a unicidade das informações;**"
      ],
      "metadata": {
        "id": "XE5U5XuxC-A8"
      }
    },
    {
      "cell_type": "code",
      "source": [
        "df.drop_duplicates(inplace=True)\n",
        "\n",
        "print(df.duplicated().sum())\n",
        "\n",
        "print(df.head())"
      ],
      "metadata": {
        "colab": {
          "base_uri": "https://localhost:8080/"
        },
        "id": "ZWzkhi4CtKa7",
        "outputId": "ac6a3433-de53-4f82-aede-5595c602c10e"
      },
      "execution_count": null,
      "outputs": [
        {
          "output_type": "stream",
          "name": "stdout",
          "text": [
            "0\n",
            "   ID  PONTOS ESTADO    GENERO  IDADE  BENS  SALDO NA CONTA  PRODUTO  \\\n",
            "0   1     619     BA  Feminino     42     2               0        1   \n",
            "1   2     608     CE  Feminino     41     1         8380786        1   \n",
            "2   3     502     BA  Feminino     42     8         1596608        3   \n",
            "3   4     699     BA  Feminino     39     1               0        2   \n",
            "4   5     850     CE  Feminino     43     2        12551082        1   \n",
            "\n",
            "   POSSUI CARTAO  ATIVO     SALARIO  SAIU  \n",
            "0              1      1  10134888.0     1  \n",
            "1              0      1  11254258.0     0  \n",
            "2              1      0  11393157.0     1  \n",
            "3              0      0   9382663.0     0  \n",
            "4              1      1    790841.0     0  \n"
          ]
        }
      ]
    },
    {
      "cell_type": "markdown",
      "source": [
        "# **5. Corrigir os dados categóricos, por exemplo, \"Mas\" para \"Masculino\" e \"Fem\" para \"Feminino\" para adequá-los ao padrão dos demais;**"
      ],
      "metadata": {
        "id": "nP21ZBGTJ0hY"
      }
    },
    {
      "cell_type": "code",
      "source": [
        "df['GENERO'] = df['GENERO'].replace({'M': 'Masculino', 'F': 'Feminino'})"
      ],
      "metadata": {
        "id": "Yg1__pJdJ0hZ"
      },
      "execution_count": null,
      "outputs": []
    },
    {
      "cell_type": "code",
      "source": [
        "print(df.isnull().sum())\n",
        "print(df.head(20))"
      ],
      "metadata": {
        "outputId": "dc4c23cf-c85a-437c-b49a-2e8214c6e521",
        "colab": {
          "base_uri": "https://localhost:8080/"
        },
        "id": "j4NTJeb3J0hZ",
        "collapsed": true
      },
      "execution_count": null,
      "outputs": [
        {
          "output_type": "stream",
          "name": "stdout",
          "text": [
            "ID                0\n",
            "PONTOS            0\n",
            "ESTADO            0\n",
            "GENERO            0\n",
            "IDADE             0\n",
            "BENS              0\n",
            "SALDO NA CONTA    0\n",
            "PRODUTO           0\n",
            "POSSUI CARTAO     0\n",
            "ATIVO             0\n",
            "SALARIO           0\n",
            "SAIU              0\n",
            "dtype: int64\n",
            "    ID  PONTOS ESTADO     GENERO  IDADE  BENS  SALDO NA CONTA  PRODUTO  \\\n",
            "0    1     619     BA   Feminino     42     2               0        1   \n",
            "1    2     608     CE   Feminino     41     1         8380786        1   \n",
            "2    3     502     BA   Feminino     42     8         1596608        3   \n",
            "3    4     699     BA   Feminino     39     1               0        2   \n",
            "4    5     850     CE   Feminino     43     2        12551082        1   \n",
            "5    6     645     CE  Masculino     44     8        11375578        2   \n",
            "6    7     822     BA  Masculino     50     7               0        2   \n",
            "7    8     376     CE   Feminino     29     4        11504674        4   \n",
            "8    9     501     BA  Masculino     44     4        14205107        2   \n",
            "9   10     684     BA  Masculino     27     2        13460388        1   \n",
            "10  11     528     BA  Masculino     31     6        10201672        2   \n",
            "11  12     497     CE  Masculino     24     3               0        2   \n",
            "12  13     476     BA   Feminino     34    10               0        2   \n",
            "13  14     549     BA   Feminino     25     5               0        2   \n",
            "14  15     635     CE   Feminino     35     7               0        2   \n",
            "15  16     616     CE  Masculino     45     3        14312941        2   \n",
            "16  17     653     CE  Masculino     58     1        13260288        1   \n",
            "17  18     549     CE   Feminino     24     9               0        2   \n",
            "18  19     587     CE  Masculino     45     6               0        1   \n",
            "19  20     726     BA   Feminino     24     6               0        2   \n",
            "\n",
            "    POSSUI CARTAO  ATIVO       SALARIO  SAIU  \n",
            "0               1      1  1.013489e+07     1  \n",
            "1               0      1  1.125426e+07     0  \n",
            "2               1      0  1.139316e+07     1  \n",
            "3               0      0  9.382663e+06     0  \n",
            "4               1      1  7.908410e+05     0  \n",
            "5               1      0  1.497567e+07     1  \n",
            "6               1      1  1.006280e+05     0  \n",
            "7               1      0  1.193469e+10     1  \n",
            "8               0      1  7.494050e+05     0  \n",
            "9               1      1  7.172573e+06     0  \n",
            "10              0      0  8.018112e+06     0  \n",
            "11              1      0  7.639001e+06     0  \n",
            "12              1      0  2.626098e+06     0  \n",
            "13              0      0  1.908578e+07     0  \n",
            "14              1      1  6.595165e+06     0  \n",
            "15              0      1  6.432726e+06     0  \n",
            "16              1      0  5.097670e+05     1  \n",
            "17              1      1  8.703250e+06     0  \n",
            "18              0      0  1.586848e+07     0  \n",
            "19              1      1  5.472403e+06     0  \n"
          ]
        }
      ]
    },
    {
      "cell_type": "markdown",
      "source": [
        "# **Análise coluna pontos em boxplot**"
      ],
      "metadata": {
        "id": "Efph1TglY1hP"
      }
    },
    {
      "cell_type": "code",
      "source": [
        "sns.boxplot(y=df['PONTOS'])\n",
        "plt.show()\n"
      ],
      "metadata": {
        "colab": {
          "base_uri": "https://localhost:8080/",
          "height": 411
        },
        "id": "pnczGZ8aY9x-",
        "outputId": "af287a9a-a7aa-42e7-cac2-ad579956356e"
      },
      "execution_count": 29,
      "outputs": [
        {
          "output_type": "display_data",
          "data": {
            "text/plain": [
              "<Figure size 640x480 with 1 Axes>"
            ],
            "image/png": "[encoded data removed]"
          },
          "metadata": {}
        }
      ]
    }
  ],
  "metadata": {
    "colab": {
      "provenance": []
    },
    "kernelspec": {
      "display_name": "Python 3",
      "name": "python3"
    },
    "language_info": {
      "name": "python"
    }
  },
  "nbformat": 4,
  "nbformat_minor": 0
}